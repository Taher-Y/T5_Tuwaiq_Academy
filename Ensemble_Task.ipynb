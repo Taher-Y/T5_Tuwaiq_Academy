{
  "cells": [
    {
      "cell_type": "markdown",
      "id": "9ae4cc02",
      "metadata": {
        "id": "9ae4cc02"
      },
      "source": [
        "# Ensemble Methods Notebook\n",
        "Welcome to the weekly project on Ensemble Methods. You will be working with a dataset of traffic jams.\n",
        "\n",
        "## Dataset\n",
        "The dataset that will be used in this task is `Traffic_Jam.csv`\n",
        "\n",
        "## Instructions\n",
        "- Follow the steps outlined below.\n",
        "- Write your code in the empty code cells.\n",
        "- Comment on your code to explain your reasoning.\n",
        "\n",
        "## Dataset Overview\n",
        "This dataset contains traffic data including various counts of vehicle types across different times and days. Below are samples of these columns:\n",
        "\n",
        "* `Time`: The timestamp of the traffic count (in intervals).\n",
        "* `Date`: The day of the month the data was recorded.\n",
        "* `Day of the Week`: The day of the week for the recorded data.\n",
        "* `CarCount`: The number of cars counted during the time interval.\n",
        "* `BikeCount`: The number of bikes counted during the time interval.\n",
        "* `BusCount`: The number of buses counted during the time interval.\n",
        "* `TruckCount`: The number of trucks counted during the time interval.\n",
        "* `Total`: Total vehicles counted during the time interval.\n",
        "* `Traffic Situation`: Qualitative assessment of the traffic (e.g., normal, congested).\n",
        "\n",
        "## Goal\n",
        "The primary goal of this exam is to develop a predictive model capable of determining the `Traffic Situation` based on your choice of features provided in the dataset. Students are expected to apply ensemble methods to build and evaluate their models."
      ]
    },
    {
      "cell_type": "markdown",
      "id": "0243f5f9",
      "metadata": {
        "id": "0243f5f9"
      },
      "source": [
        "# Import Libraries"
      ]
    },
    {
      "cell_type": "code",
      "execution_count": null,
      "id": "cd906704",
      "metadata": {
        "id": "cd906704"
      },
      "outputs": [],
      "source": []
    },
    {
      "cell_type": "markdown",
      "id": "3bc0f20e",
      "metadata": {
        "id": "3bc0f20e"
      },
      "source": [
        "# Load the dataset\n"
      ]
    },
    {
      "cell_type": "code",
      "execution_count": null,
      "id": "47ecb305",
      "metadata": {
        "id": "47ecb305"
      },
      "outputs": [],
      "source": []
    },
    {
      "cell_type": "markdown",
      "id": "41f23906",
      "metadata": {
        "id": "41f23906"
      },
      "source": [
        "# Exploratory Data Analysis (EDA)\n",
        "\n",
        "Below are some steps and visualizations to perform EDA on the dataset:\n",
        "\n",
        "1. **Summary Statistics**: Obtain summary statistics for the dataset to understand the central tendencies and dispersion of numerical features.describe()\n",
        "\n",
        "2. **Distribution of the Target Variable**: Analyze the distribution of the target variable `Traffic Situation` to understand the class balance.\n",
        "\n",
        "3. **Correlation Analysis**: Analyze correlations between features."
      ]
    },
    {
      "cell_type": "code",
      "execution_count": null,
      "id": "140e99fb",
      "metadata": {
        "id": "140e99fb"
      },
      "outputs": [],
      "source": []
    },
    {
      "cell_type": "markdown",
      "id": "c0e69164",
      "metadata": {
        "id": "c0e69164"
      },
      "source": [
        "# Preprocess the data (if necessary)\n",
        "\n",
        "Before building models, it's crucial to preprocess the data to ensure it's clean and suitable for training. Follow these steps to prepare the dataset:\n",
        "\n",
        "1. **Check for Missing Values**: Determine if there are any missing values in the dataset and handle them appropriately. You can choose to fill them with a mean, median, or mode value, or drop rows with missing values if necessary.\n",
        "\n",
        "2. **Encode Categorical Variables**: Convert categorical variables into numerical representations. This can be done using techniques such as one-hot encoding and lable-encoder.\n",
        "\n",
        "3. **Feature Scaling**: Standardize or Normalize numerical features if needed to have a consistent scale.\n",
        "\n",
        "4. **Remove Unnecessary Columns**: Drop any columns that are not relevant for modeling."
      ]
    },
    {
      "cell_type": "code",
      "execution_count": null,
      "id": "1c56d9ea",
      "metadata": {
        "id": "1c56d9ea"
      },
      "outputs": [],
      "source": []
    },
    {
      "cell_type": "markdown",
      "id": "15d85221",
      "metadata": {
        "id": "15d85221"
      },
      "source": [
        "# Visualize the Data\n",
        "\n",
        "Visualizing the data helps in understanding the relationships between features and the target variable. Below are some common visualizations that can be used to gain insights into the dataset:\n",
        "\n",
        "1. **Count Plots for Categorical Features**: Use count plots to visualize the frequency of categorical features such as the `Traffic Situation`.\n",
        "\n",
        "2. **Correlation Heatmap**: Create a heatmap to visualize the correlation between numerical features and identify any strong relationships."
      ]
    },
    {
      "cell_type": "code",
      "execution_count": null,
      "id": "124f0bea",
      "metadata": {
        "id": "124f0bea"
      },
      "outputs": [],
      "source": []
    },
    {
      "cell_type": "markdown",
      "id": "2104eb8e",
      "metadata": {
        "id": "2104eb8e"
      },
      "source": [
        "# Split the Dataset\n",
        "\n",
        "1. **Define Features and Target**: Separate the dataset into features (`X`) and the target variable (`y`).\n",
        "\n",
        "2. **Train-Test Split**: Use the `train_test_split` function from `sklearn.model_selection` to split the data."
      ]
    },
    {
      "cell_type": "code",
      "execution_count": null,
      "id": "f3a3d4e9",
      "metadata": {
        "id": "f3a3d4e9"
      },
      "outputs": [],
      "source": []
    },
    {
      "cell_type": "markdown",
      "id": "bdcb9a0a",
      "metadata": {
        "id": "bdcb9a0a"
      },
      "source": [
        "# Initialize and Train the Classifiers"
      ]
    },
    {
      "cell_type": "markdown",
      "id": "ea773220",
      "metadata": {
        "id": "ea773220"
      },
      "source": [
        "## Bagging\n",
        "Chose the bagging model to go with and initialize and train a the model."
      ]
    },
    {
      "cell_type": "code",
      "execution_count": null,
      "id": "3e29fd42",
      "metadata": {
        "id": "3e29fd42"
      },
      "outputs": [],
      "source": []
    },
    {
      "cell_type": "markdown",
      "id": "fb3a2438",
      "metadata": {
        "id": "fb3a2438"
      },
      "source": [
        "### Evaluate the model performance"
      ]
    },
    {
      "cell_type": "code",
      "execution_count": null,
      "id": "38d965b4",
      "metadata": {
        "id": "38d965b4"
      },
      "outputs": [],
      "source": []
    },
    {
      "cell_type": "markdown",
      "id": "1790e79e",
      "metadata": {
        "id": "1790e79e"
      },
      "source": [
        "## Boosting\n",
        "Chose the Boosting model to go with and initialize and train a the model."
      ]
    },
    {
      "cell_type": "code",
      "execution_count": null,
      "id": "bd8ef061",
      "metadata": {
        "id": "bd8ef061"
      },
      "outputs": [],
      "source": []
    },
    {
      "cell_type": "markdown",
      "id": "6646ab65",
      "metadata": {
        "id": "6646ab65"
      },
      "source": [
        "### Evaluate the model performance"
      ]
    },
    {
      "cell_type": "code",
      "execution_count": null,
      "id": "d9915c9c",
      "metadata": {
        "id": "d9915c9c"
      },
      "outputs": [],
      "source": []
    },
    {
      "cell_type": "markdown",
      "id": "fc2255c5",
      "metadata": {
        "id": "fc2255c5"
      },
      "source": [
        "## Stacking Classifier\n",
        "Combine the previous classifiers as the base models using a Stacking Classifier."
      ]
    },
    {
      "cell_type": "code",
      "execution_count": null,
      "id": "23b6f377",
      "metadata": {
        "id": "23b6f377"
      },
      "outputs": [],
      "source": []
    },
    {
      "cell_type": "markdown",
      "id": "cb295dff",
      "metadata": {
        "id": "cb295dff"
      },
      "source": [
        "### Define meta-learner (LogisticRegression)"
      ]
    },
    {
      "cell_type": "code",
      "execution_count": null,
      "id": "7b4eb2a7",
      "metadata": {
        "id": "7b4eb2a7"
      },
      "outputs": [],
      "source": []
    },
    {
      "cell_type": "markdown",
      "id": "0f74e88d",
      "metadata": {
        "id": "0f74e88d"
      },
      "source": [
        "### Initialize and Train the Stacking Classifier\n",
        "\n",
        "Stacking combines multiple models (base learners) using a meta-learner. The meta-learner is trained on the predictions of the base learners to make the final prediction."
      ]
    },
    {
      "cell_type": "code",
      "execution_count": null,
      "id": "c53f148a",
      "metadata": {
        "id": "c53f148a"
      },
      "outputs": [],
      "source": []
    },
    {
      "cell_type": "markdown",
      "id": "d24a1137",
      "metadata": {
        "id": "d24a1137"
      },
      "source": [
        "### Evaluate the model performance"
      ]
    },
    {
      "cell_type": "code",
      "execution_count": null,
      "id": "4cd40cf6",
      "metadata": {
        "id": "4cd40cf6"
      },
      "outputs": [],
      "source": []
    },
    {
      "cell_type": "markdown",
      "id": "4129f6a0",
      "metadata": {
        "id": "4129f6a0"
      },
      "source": [
        "# Notebook Questions:\n",
        "\n",
        "After completing the tasks in this notebook, take some time to reflect on the work you have done and answer the following questions. These questions are designed to help you think critically about the steps you took and the decisions you made.\n",
        "\n",
        "* **Feature Selection and Engineering**\n",
        "   - Which features did you find most important for predicting churn, and why do you think they are significant?\n",
        "   - Did you perform any feature engineering? If so, what new features did you create, and how did they improve the model performance?\n",
        "\n",
        "* **Model Selection**\n",
        "   - Why did you choose the specific ensemble methods you implemented? What are the advantages of using ensemble methods over single models?\n",
        "   - Compare the performance of different models you used. Which model performed the best, and what do you think contributed to its success?\n",
        "\n",
        "* **Model Evaluation**\n",
        "   - Which evaluation metrics did you use to assess the model performance, and why? What insights did these metrics provide about the models' strengths and weaknesses?\n"
      ]
    },
    {
      "cell_type": "markdown",
      "id": "5a4dd465",
      "metadata": {
        "id": "5a4dd465"
      },
      "source": [
        "# Answer here:"
      ]
    },
    {
      "cell_type": "markdown",
      "id": "e3f6bf58",
      "metadata": {
        "id": "e3f6bf58"
      },
      "source": []
    }
  ],
  "metadata": {
    "colab": {
      "provenance": []
    },
    "language_info": {
      "name": "python"
    }
  },
  "nbformat": 4,
  "nbformat_minor": 5
}
