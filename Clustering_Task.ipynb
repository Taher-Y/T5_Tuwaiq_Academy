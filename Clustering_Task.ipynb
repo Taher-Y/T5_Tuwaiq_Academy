{
 "cells": [
  {
   "cell_type": "markdown",
   "id": "f0946ef5",
   "metadata": {},
   "source": [
    "# Clustering and Dimensionality Reduction Exam\n",
    "Welcome to the weekly project on clustering and dimensionality reduction. You will be working with a dataset of traffic accidents.\n",
    "\n",
    "## Dataset\n",
    "The dataset that will be used in this task is `Traffic_Accidents.csv`\n",
    "\n",
    "## Instructions\n",
    "- Follow the steps outlined below.\n",
    "- Write your code in the empty code cells.\n",
    "- Comment on your code to explain your reasoning.\n",
    "\n",
    "## Dataset Overview\n",
    "The dataset contains information about traffic accidents, including location, weather conditions, road conditions, and more. Below are sample of these columns:\n",
    "\n",
    "* `Location_Easting_OSGR`: Easting coordinate of the accident location.\n",
    "* `Location_Northing_OSGR`: Northing coordinate of the accident location.\n",
    "* `Longitude`: Longitude of the accident site.\n",
    "* `Latitude`: Latitude of the accident site.\n",
    "* `Police_Force`: Identifier for the police force involved.\n",
    "* `Accident_Severity`: Severity of the accident.\n",
    "* `Number_of_Vehicles`: Number of vehicles involved in the accident.\n",
    "* `Number_of_Casualties`: Number of casualties in the accident.\n",
    "* `Date`: Date of the accident.\n",
    "* `Day_of_Week`: Day of the week when the accident occurred.\n",
    "* `Speed_limit`: Speed limit in the area where the accident occurred.\n",
    "* `Weather_Conditions`: Weather conditions at the time of the accident.\n",
    "* `Road_Surface_Conditions`: Condition of the road surface during the accident.\n",
    "* `Urban_or_Rural_Area`: Whether the accident occurred in an urban or rural area.\n",
    "* `Year`: Year when the accident was recorded.\n",
    "* Additional attributes related to road type, pedestrian crossing, light conditions, etc.\n",
    "\n",
    "## Goal\n",
    "The primary goal is to analyze the accidents based on their geographical location.\n"
   ]
  },
  {
   "cell_type": "markdown",
   "id": "e2d10a84",
   "metadata": {},
   "source": [
    "## Import Libraries"
   ]
  },
  {
   "cell_type": "code",
   "execution_count": null,
   "id": "9ee4bcdb",
   "metadata": {},
   "outputs": [],
   "source": []
  },
  {
   "cell_type": "markdown",
   "id": "8a257dea",
   "metadata": {},
   "source": [
    "## Load the Data"
   ]
  },
  {
   "cell_type": "code",
   "execution_count": null,
   "id": "2832846e",
   "metadata": {},
   "outputs": [],
   "source": []
  },
  {
   "cell_type": "markdown",
   "id": "4106d3c7",
   "metadata": {},
   "source": [
    "## Exploratory Data Analysis (EDA)\n",
    "Perform EDA to understand the data better. This involves several steps to summarize the main characteristics, uncover patterns, and establish relationships:\n",
    "* Find the dataset information and observe the datatypes.\n",
    "* Check the shape of the data to understand its structure.\n",
    "* View the the data with various functions to get an initial sense of the data.\n",
    "* Perform summary statistics on the dataset to grasp central tendencies and variability.\n",
    "* Check for duplicated data.\n",
    "* Check for null values.\n",
    "\n",
    "And apply more if needed!\n"
   ]
  },
  {
   "cell_type": "code",
   "execution_count": null,
   "id": "a49012c4",
   "metadata": {},
   "outputs": [],
   "source": []
  },
  {
   "cell_type": "markdown",
   "id": "b0d002cd",
   "metadata": {},
   "source": [
    "## Data Preprocessing\n",
    "Do what you think you need such as:\n",
    "* Remove the outliers\n",
    "* Impute missing data\n",
    "* Scale the data\n",
    "* Reduce dimentions using PCA\n",
    "* Implement One-Hot Encoding for nominal categorical variables."
   ]
  },
  {
   "cell_type": "code",
   "execution_count": null,
   "id": "ca5bbcf9",
   "metadata": {},
   "outputs": [],
   "source": []
  },
  {
   "cell_type": "markdown",
   "id": "d3f6a968",
   "metadata": {},
   "source": [
    "## Feature Selection\n",
    "Select relevant features for clustering. Explain your choice of features.\n"
   ]
  },
  {
   "cell_type": "code",
   "execution_count": null,
   "id": "7a2b7c47",
   "metadata": {},
   "outputs": [],
   "source": []
  },
  {
   "cell_type": "markdown",
   "id": "d0379d4e",
   "metadata": {},
   "source": [
    "## Data Visualization\n",
    "Visualize the data using appropriate plots to gain insights into the dataset. Using the following:\n",
    "- Scatter plot of accidents based on Longitude and Latitude."
   ]
  },
  {
   "cell_type": "code",
   "execution_count": null,
   "id": "660247d7",
   "metadata": {},
   "outputs": [],
   "source": []
  },
  {
   "cell_type": "markdown",
   "id": "4d2f9b1d",
   "metadata": {},
   "source": [
    "## Clustering\n",
    "Apply K-Means clustering. Determine the optimal number of clusters and justify your choice.\n",
    "* Find the `n_clusters` parameter using the elbow method.\n",
    "* Train the model."
   ]
  },
  {
   "cell_type": "code",
   "execution_count": null,
   "id": "2d08303f",
   "metadata": {},
   "outputs": [],
   "source": []
  },
  {
   "cell_type": "markdown",
   "id": "70fb3a2a",
   "metadata": {},
   "source": [
    "## Evaluation\n",
    "Evaluate the clustering result using appropriate metrics.\n"
   ]
  },
  {
   "cell_type": "code",
   "execution_count": null,
   "id": "70c261ca",
   "metadata": {},
   "outputs": [],
   "source": [
    "\n"
   ]
  },
  {
   "cell_type": "markdown",
   "id": "061e005c",
   "metadata": {},
   "source": [
    "## Plot the data points with their predicted cluster center"
   ]
  },
  {
   "cell_type": "code",
   "execution_count": null,
   "id": "10cc0ed5",
   "metadata": {},
   "outputs": [],
   "source": []
  },
  {
   "cell_type": "markdown",
   "id": "5cdf3716",
   "metadata": {},
   "source": [
    "## Exam Questions\n",
    "* **Justify Your Feature Selection:**\n",
    "   - Which features did you choose for clustering and why?\n",
    "* **Number of Clusters Choices:**\n",
    "   - How did you determine the optimal number?\n",
    "* **Evaluation:**\n",
    "   - Which metrics did you use to evaluate the clustering results, and why?\n",
    "   - How do these metrics help in understanding the effectiveness of your clustering approach?\n",
    "* **Improvements and Recommendations:**\n",
    "   - Suggest any improvements or future work that could be done with this dataset. What other methods or algorithms would you consider applying?"
   ]
  }
 ],
 "metadata": {
  "language_info": {
   "name": "python"
  }
 },
 "nbformat": 4,
 "nbformat_minor": 5
}
